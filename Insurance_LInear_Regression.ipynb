{
 "cells": [
  {
   "cell_type": "markdown",
   "id": "cead6aeb",
   "metadata": {},
   "source": [
    "# Insurance Data Linear Regresssion Project (EDA, Data Clean, R^2 :0.776)"
   ]
  },
  {
   "cell_type": "markdown",
   "id": "8267b687",
   "metadata": {},
   "source": [
    "Hi, \n",
    "\n",
    "I'm new to Data Science and I have created this notebook as a practice. Any comments and suggests is highly appreciated!\n",
    "This note book is heavily influenced by the style and structure of: https://www.kaggle.com/barisscal/diamonds-linear-regression-and-metrics-98/notebook#EDA-and-Linear-Regression-with-Evaluation-Metrics-on-Diamonds-Dataset\n",
    "\n",
    "This project uses linear regression to predict the insurance charges based on features such as age, sex, region, and other health related issues and habits."
   ]
  },
  {
   "cell_type": "code",
   "execution_count": 1,
   "id": "b0b23fe6",
   "metadata": {},
   "outputs": [],
   "source": [
    "#imports\n",
    "import numpy as np\n",
    "import pandas as pd\n",
    "import matplotlib.pyplot as plt\n",
    "%matplotlib inline\n",
    "import seaborn as sns\n",
    "\n",
    "import warnings\n",
    "warnings.filterwarnings('ignore')"
   ]
  },
  {
   "cell_type": "code",
   "execution_count": 2,
   "id": "0eed1d0b",
   "metadata": {},
   "outputs": [
    {
     "name": "stdout",
     "output_type": "stream",
     "text": [
      "input/insurance.csv\n"
     ]
    }
   ],
   "source": [
    "#locate the data\n",
    "import os\n",
    "\n",
    "for folder,sub, file in os.walk('input/'):\n",
    "    for f in file:\n",
    "        print(folder+f)"
   ]
  },
  {
   "cell_type": "code",
   "execution_count": 3,
   "id": "04af3d1b",
   "metadata": {},
   "outputs": [],
   "source": [
    "# read the data\n",
    "df = pd.read_csv('input/insurance.csv')"
   ]
  },
  {
   "cell_type": "code",
   "execution_count": 4,
   "id": "a2dc023e",
   "metadata": {},
   "outputs": [
    {
     "data": {
      "text/html": [
       "<div>\n",
       "<style scoped>\n",
       "    .dataframe tbody tr th:only-of-type {\n",
       "        vertical-align: middle;\n",
       "    }\n",
       "\n",
       "    .dataframe tbody tr th {\n",
       "        vertical-align: top;\n",
       "    }\n",
       "\n",
       "    .dataframe thead th {\n",
       "        text-align: right;\n",
       "    }\n",
       "</style>\n",
       "<table border=\"1\" class=\"dataframe\">\n",
       "  <thead>\n",
       "    <tr style=\"text-align: right;\">\n",
       "      <th></th>\n",
       "      <th>age</th>\n",
       "      <th>sex</th>\n",
       "      <th>bmi</th>\n",
       "      <th>children</th>\n",
       "      <th>smoker</th>\n",
       "      <th>region</th>\n",
       "      <th>charges</th>\n",
       "    </tr>\n",
       "  </thead>\n",
       "  <tbody>\n",
       "    <tr>\n",
       "      <th>0</th>\n",
       "      <td>19</td>\n",
       "      <td>female</td>\n",
       "      <td>27.900</td>\n",
       "      <td>0</td>\n",
       "      <td>yes</td>\n",
       "      <td>southwest</td>\n",
       "      <td>16884.92400</td>\n",
       "    </tr>\n",
       "    <tr>\n",
       "      <th>1</th>\n",
       "      <td>18</td>\n",
       "      <td>male</td>\n",
       "      <td>33.770</td>\n",
       "      <td>1</td>\n",
       "      <td>no</td>\n",
       "      <td>southeast</td>\n",
       "      <td>1725.55230</td>\n",
       "    </tr>\n",
       "    <tr>\n",
       "      <th>2</th>\n",
       "      <td>28</td>\n",
       "      <td>male</td>\n",
       "      <td>33.000</td>\n",
       "      <td>3</td>\n",
       "      <td>no</td>\n",
       "      <td>southeast</td>\n",
       "      <td>4449.46200</td>\n",
       "    </tr>\n",
       "    <tr>\n",
       "      <th>3</th>\n",
       "      <td>33</td>\n",
       "      <td>male</td>\n",
       "      <td>22.705</td>\n",
       "      <td>0</td>\n",
       "      <td>no</td>\n",
       "      <td>northwest</td>\n",
       "      <td>21984.47061</td>\n",
       "    </tr>\n",
       "    <tr>\n",
       "      <th>4</th>\n",
       "      <td>32</td>\n",
       "      <td>male</td>\n",
       "      <td>28.880</td>\n",
       "      <td>0</td>\n",
       "      <td>no</td>\n",
       "      <td>northwest</td>\n",
       "      <td>3866.85520</td>\n",
       "    </tr>\n",
       "  </tbody>\n",
       "</table>\n",
       "</div>"
      ],
      "text/plain": [
       "   age     sex     bmi  children smoker     region      charges\n",
       "0   19  female  27.900         0    yes  southwest  16884.92400\n",
       "1   18    male  33.770         1     no  southeast   1725.55230\n",
       "2   28    male  33.000         3     no  southeast   4449.46200\n",
       "3   33    male  22.705         0     no  northwest  21984.47061\n",
       "4   32    male  28.880         0     no  northwest   3866.85520"
      ]
     },
     "execution_count": 4,
     "metadata": {},
     "output_type": "execute_result"
    }
   ],
   "source": [
    "#check out the head of the data\n",
    "df.head(5)"
   ]
  },
  {
   "cell_type": "code",
   "execution_count": 5,
   "id": "8a596cec",
   "metadata": {},
   "outputs": [
    {
     "data": {
      "text/plain": [
       "age         0\n",
       "sex         0\n",
       "bmi         0\n",
       "children    0\n",
       "smoker      0\n",
       "region      0\n",
       "charges     0\n",
       "dtype: int64"
      ]
     },
     "execution_count": 5,
     "metadata": {},
     "output_type": "execute_result"
    }
   ],
   "source": [
    "# no missing data\n",
    "df.isnull().sum()"
   ]
  },
  {
   "cell_type": "markdown",
   "id": "9af3654c",
   "metadata": {},
   "source": [
    "# EDA"
   ]
  },
  {
   "cell_type": "code",
   "execution_count": 6,
   "id": "d980b16c",
   "metadata": {},
   "outputs": [
    {
     "data": {
      "text/plain": [
       "['sex', 'smoker', 'region']"
      ]
     },
     "execution_count": 6,
     "metadata": {},
     "output_type": "execute_result"
    }
   ],
   "source": [
    "#catgorical data\n",
    "categorical = (df.dtypes == 'object')\n",
    "cats = list(categorical[categorical].index)\n",
    "cats"
   ]
  },
  {
   "cell_type": "code",
   "execution_count": 7,
   "id": "f9724aab",
   "metadata": {},
   "outputs": [],
   "source": [
    "#create a function that make count&pie plots\n",
    "def countpieplots(cats):\n",
    "    my_explodes = [0.05,0.05],[0.05,0.05], [0.05,0.05,0.05,0.05]\n",
    "    for i in range(len(cats)):\n",
    "        plt.figure(figsize=(9,3))\n",
    "        plt.subplot(1,2,1)\n",
    "        plt.title(cats[i])\n",
    "        sns.countplot(df[cats[i]], palette='magma')\n",
    "        plt.subplot(1,2,2)\n",
    "        plt.pie(df[cats[i]].value_counts(), shadow=True, explode = my_explodes[i], startangle=90, \n",
    "                labels=df[cats[i]].value_counts().index, autopct = '%1.f%%')\n",
    "        plt.show()\n",
    "        print('Counts:')\n",
    "        print(f'{df[cats[i]].value_counts()}')\n",
    "        plt.savefig('countpie.png')"
   ]
  },
  {
   "cell_type": "code",
   "execution_count": null,
   "id": "96a53b49",
   "metadata": {},
   "outputs": [
    {
     "data": {
      "image/png": "[encoded data removed]",
      "text/plain": [
       "<Figure size 648x216 with 2 Axes>"
      ]
     },
     "metadata": {
      "needs_background": "light"
     },
     "output_type": "display_data"
    },
    {
     "name": "stdout",
     "output_type": "stream",
     "text": [
      "Counts:\n",
      "male      676\n",
      "female    662\n",
      "Name: sex, dtype: int64\n"
     ]
    },
    {
     "data": {
      "text/plain": [
       "<Figure size 432x288 with 0 Axes>"
      ]
     },
     "metadata": {},
     "output_type": "display_data"
    },
    {
     "data": {
      "image/png": "[encoded data removed]",
      "text/plain": [
       "<Figure size 648x216 with 2 Axes>"
      ]
     },
     "metadata": {
      "needs_background": "light"
     },
     "output_type": "display_data"
    },
    {
     "name": "stdout",
     "output_type": "stream",
     "text": [
      "Counts:\n",
      "no     1064\n",
      "yes     274\n",
      "Name: smoker, dtype: int64\n"
     ]
    },
    {
     "data": {
      "text/plain": [
       "<Figure size 432x288 with 0 Axes>"
      ]
     },
     "metadata": {},
     "output_type": "display_data"
    }
   ],
   "source": [
    "countpieplots(cats)"
   ]
  },
  {
   "cell_type": "markdown",
   "id": "2b5fe4f7",
   "metadata": {},
   "source": [
    ">note: apart from the fact that there are much more non smokers than smokers, every other data are distributed quite evenly."
   ]
  },
  {
   "cell_type": "code",
   "execution_count": null,
   "id": "96b0308d",
   "metadata": {},
   "outputs": [],
   "source": [
    "#numerical data\n",
    "numerical = (df.dtypes != 'object')\n",
    "nums = list(numerical[numerical].index)\n",
    "nums"
   ]
  },
  {
   "cell_type": "code",
   "execution_count": null,
   "id": "18eae4d4",
   "metadata": {},
   "outputs": [],
   "source": [
    "#Create violin plots for the numerical data\n",
    "plt.figure(figsize=(10,6))\n",
    "plt.subplot(2,2,1)\n",
    "sns.violinplot(df['age'], color='red')\n",
    "\n",
    "plt.subplot(2,2,2)\n",
    "sns.violinplot(df['bmi'], color='blue')\n",
    "\n",
    "plt.subplot(2,2,3)\n",
    "sns.violinplot(df['children'], color = 'green')\n",
    "\n",
    "plt.subplot(2,2,4)\n",
    "sns.violinplot(df['charges'], color = 'yellow')"
   ]
  },
  {
   "cell_type": "markdown",
   "id": "6727c85c",
   "metadata": {},
   "source": [
    "Age: Ranging from 10 - 70, with the mean of 40, no obvious outlier based on the distribution shape.\n",
    "\n",
    "BMI: Average at 30.\n",
    "\n",
    "Children: Most people have no children and not many have more than 3.\n",
    "\n",
    "Charges: Mostly around 10,000 and far less higher than 20,000."
   ]
  },
  {
   "cell_type": "markdown",
   "id": "79998f37",
   "metadata": {},
   "source": [
    "# Age - Charges"
   ]
  },
  {
   "cell_type": "code",
   "execution_count": null,
   "id": "064ad78e",
   "metadata": {},
   "outputs": [],
   "source": [
    "plt.figure(figsize=(12,8))\n",
    "sns.jointplot(df['age'],df['charges'])"
   ]
  },
  {
   "cell_type": "markdown",
   "id": "db6ef8c1",
   "metadata": {},
   "source": [
    "> Above we can see a jointplot between age and charges.\n",
    ">> As we can see, charges with association to ages are divided into 3 groups and in each as you get older, your charges get higher which does make intuitive sense. These three levels division is probably due to other variables since as children and smoking habit."
   ]
  },
  {
   "cell_type": "markdown",
   "id": "49772570",
   "metadata": {},
   "source": [
    "# bmi - Charges"
   ]
  },
  {
   "cell_type": "code",
   "execution_count": null,
   "id": "8c272339",
   "metadata": {},
   "outputs": [],
   "source": [
    "sns.jointplot(df['bmi'],df['charges'])"
   ]
  },
  {
   "cell_type": "markdown",
   "id": "ac4a2054",
   "metadata": {},
   "source": [
    ">Above we can see the joint plot between  charges and bmi.\n",
    ">> bmi is normally distributed but charges is left skewed. The means that as bmi increase charges do not necessary do. Although this is only true for charges lower than around 15,000. After that there seems to be a slight association where as you bmi increases, so does your charges. This might indicate that for people with lower charges bmi is not a diciding factor of charges."
   ]
  },
  {
   "cell_type": "markdown",
   "id": "9a690240",
   "metadata": {},
   "source": [
    "# Sex -Charges"
   ]
  },
  {
   "cell_type": "code",
   "execution_count": null,
   "id": "1d4538d2",
   "metadata": {},
   "outputs": [],
   "source": [
    "sns.barplot(df['sex'],df['charges'], palette='Set3')"
   ]
  },
  {
   "cell_type": "markdown",
   "id": "4d65f2cd",
   "metadata": {},
   "source": [
    ">Above we can see the barplot between the two sexes and their charges.\n",
    ">> interstingly males seem to have higher charges than females."
   ]
  },
  {
   "cell_type": "markdown",
   "id": "7d5a2a09",
   "metadata": {},
   "source": [
    "# Children - Charges"
   ]
  },
  {
   "cell_type": "code",
   "execution_count": null,
   "id": "bd7b3fbe",
   "metadata": {},
   "outputs": [],
   "source": [
    "sns.barplot(df['children'],df['charges'], palette='Set3')"
   ]
  },
  {
   "cell_type": "markdown",
   "id": "b17ada80",
   "metadata": {},
   "source": [
    ">Above we can the bar plot between the number of children and the charges associated\n",
    ">> As we can see, mostly, people with 3 and 2 children seem to have the highest charges. Although the higest amount of charge belongs to someone with 4 children. One child and no childern have very similar charges with only a slight difference. Interestingly people with 5 children have the lowest charges. From this graph we can see that as the number of children goes up, so does charges but only until 3 children because after that the charges seem to decline. "
   ]
  },
  {
   "cell_type": "markdown",
   "id": "00c35cd6",
   "metadata": {},
   "source": [
    "# Smoker - Charges "
   ]
  },
  {
   "cell_type": "code",
   "execution_count": null,
   "id": "6b2f3912",
   "metadata": {},
   "outputs": [],
   "source": [
    "sns.barplot(df['smoker'],df['charges'], palette='Set3')"
   ]
  },
  {
   "cell_type": "markdown",
   "id": "71efedb8",
   "metadata": {},
   "source": [
    ">Above we can see the charges of smokers and nonsmokers\n",
    ">> Not surprisingly, the charges for smokers are significantlt higher more than 30,000. While the for non smokers, it could go up to only around 10,000."
   ]
  },
  {
   "cell_type": "markdown",
   "id": "358231ee",
   "metadata": {},
   "source": [
    "# Region - Charges"
   ]
  },
  {
   "cell_type": "code",
   "execution_count": null,
   "id": "14ee844b",
   "metadata": {},
   "outputs": [],
   "source": [
    "sns.barplot(df['region'],df['charges'], palette='Set3')"
   ]
  },
  {
   "cell_type": "markdown",
   "id": "5f72192b",
   "metadata": {},
   "source": [
    "> Here we can see the barplot between regions and charges\n",
    ">> People in the southeast has the highest charges, follow by northeast and lastly southwest and northwest."
   ]
  },
  {
   "cell_type": "markdown",
   "id": "dc44f21a",
   "metadata": {},
   "source": [
    "# Panda Profilling"
   ]
  },
  {
   "cell_type": "markdown",
   "id": "bf0a4787",
   "metadata": {},
   "source": [
    "Here, I have genereated a Profile Report with Pandas Profilling. This provides a nice interactive overview of the data and it is a quick way to see what the data looks like as a whole."
   ]
  },
  {
   "cell_type": "code",
   "execution_count": null,
   "id": "17e83715",
   "metadata": {},
   "outputs": [],
   "source": [
    "import pandas_profiling as PP\n",
    "PP.ProfileReport(df)"
   ]
  },
  {
   "cell_type": "code",
   "execution_count": null,
   "id": "d36a454c",
   "metadata": {},
   "outputs": [],
   "source": [
    "#code from https://seaborn.pydata.org/examples/kde_ridgeplot.html\n",
    "\n",
    "sns.set_theme(style=\"white\", rc={\"axes.facecolor\": (0, 0, 0, 0)})\n",
    "\n",
    "pal = sns.cubehelix_palette(n_colors=10, light=0.7, rot=-0.5)\n",
    "\n",
    "g = sns.FacetGrid(df, row ='children', hue='children', height=1, aspect=15, palette=pal)\n",
    "\n",
    "g.map(sns.kdeplot,'charges', fill=True, alpha =1, bw_adjust= .5)\n",
    "g.map(sns.kdeplot, \"charges\", color=\"w\", lw=2, bw_adjust=.5)\n",
    "\n",
    "def label(x,color,label):\n",
    "    ax=plt.gca()\n",
    "    ax.text(0,.22,label, color=color, transform=ax.transAxes)\n",
    "    \n",
    "g.map(label, 'charges')\n",
    "\n",
    "g.map(plt.axhline, y= 0, lw=4)\n",
    "\n",
    "g.figure.subplots_adjust(hspace=-.25)\n",
    "\n",
    "g.set_titles('')\n",
    "g.set_ylabels('')\n",
    "g.set_yticklabels([])\n",
    "\n",
    "g.despine(bottom=True, left=True)\n",
    "\n",
    "plt.savefig('overlap.png')"
   ]
  },
  {
   "cell_type": "markdown",
   "id": "bcacdcf1",
   "metadata": {},
   "source": [
    ">Here you can see distribution plots of children and charges\n",
    ">> Here we take a closer look at children and charges. As we can see most people have the charges around less than 20,000 regardless of the number of children and after that only a small amount of people are above 30,000 regard less of the number of children. To me, according to this graph, the number of children doesn't seem to have a significant impact on the charges of most people."
   ]
  },
  {
   "cell_type": "markdown",
   "id": "0454a2f1",
   "metadata": {},
   "source": [
    "# Outliers"
   ]
  },
  {
   "cell_type": "markdown",
   "id": "3a9869e9",
   "metadata": {},
   "source": [
    "Here we uses Interquatile Range in order to detect outliers. I consider outliers which appear in at least 2 columns for the same row as outliers. These rows are later deleted from the dataframe."
   ]
  },
  {
   "cell_type": "code",
   "execution_count": null,
   "id": "b09acf41",
   "metadata": {},
   "outputs": [],
   "source": [
    "#Import\n",
    "from collections import Counter"
   ]
  },
  {
   "cell_type": "code",
   "execution_count": null,
   "id": "f2f47092",
   "metadata": {},
   "outputs": [],
   "source": [
    "#Create a function that detect outlier\n",
    "def outliers(df, variables):\n",
    "    outlier_index = []\n",
    "    \n",
    "    for c in variables:\n",
    "        #Get Q1 and Q3\n",
    "        Q1 = np.quantile(df[c],0.25)\n",
    "        Q3 = np.quantile(df[c],0.75)\n",
    "        # Get IQR\n",
    "        IQR = Q3-Q1\n",
    "        IQR_adj = IQR*1.5\n",
    "        # Find index of the value which are lower than Q1-(IQR*1.5) or higher than Q3+(IQR*1.5)\n",
    "        outliers = list(df[(df[c] < Q1 - IQR_adj) | (df[c] > Q3 + IQR_adj)].index)\n",
    "        outlier_index.extend(outliers)\n",
    "     \n",
    "    outlier_index = Counter(outlier_index).items()\n",
    "    \n",
    "    #Only return the index that appear more than 2 times from two differen columns\n",
    "    return list(i for i,v in outlier_index if v >= 2)"
   ]
  },
  {
   "cell_type": "code",
   "execution_count": null,
   "id": "6e8336b4",
   "metadata": {},
   "outputs": [],
   "source": [
    "#show the outliers\n",
    "df.iloc[outliers(df, ['age','bmi','children','charges'])]"
   ]
  },
  {
   "cell_type": "code",
   "execution_count": null,
   "id": "5cf690b5",
   "metadata": {},
   "outputs": [],
   "source": [
    "#Drop the outliers\n",
    "df = df.drop(outliers(df, ['age','bmi','children','charges']), axis = 0).reset_index(drop=True)"
   ]
  },
  {
   "cell_type": "markdown",
   "id": "9c8f7cf3",
   "metadata": {},
   "source": [
    "# Skewness"
   ]
  },
  {
   "cell_type": "markdown",
   "id": "e87b3c50",
   "metadata": {},
   "source": [
    "Here we check out the skewness and peakness of the dataset. Then we transform the necessary data with boxcox transformation in order to make the data more normally distributed so that it fit the linear regression model better. Most of the data in this dataframe are already not very skewed so I have only done this on two columns; age and charges."
   ]
  },
  {
   "cell_type": "code",
   "execution_count": null,
   "id": "3b6b97b3",
   "metadata": {},
   "outputs": [],
   "source": [
    "#import \n",
    "from scipy.stats import norm, boxcox"
   ]
  },
  {
   "cell_type": "code",
   "execution_count": null,
   "id": "b48f3733",
   "metadata": {},
   "outputs": [],
   "source": [
    "df.agg(['skew','kurtosis']).transpose()"
   ]
  },
  {
   "cell_type": "markdown",
   "id": "10c9cd66",
   "metadata": {},
   "source": [
    ">Above table shows the skewness and kurtosis(peakness) of the data. \n",
    ">> The higher the skew, the more left skewed it is, if the number is negative then it is right skewed. Normal distribution has skewness of 0. As for kurtosis, the higher the value. the more tall and thin the graph is and if the number is negative then the data will be more flat. Again, normal distribution has the kurtosis of 0."
   ]
  },
  {
   "cell_type": "markdown",
   "id": "fd901e94",
   "metadata": {},
   "source": [
    "# Age"
   ]
  },
  {
   "cell_type": "code",
   "execution_count": null,
   "id": "cbdd43c5",
   "metadata": {},
   "outputs": [],
   "source": [
    "#Show original data\n",
    "plt.figure(figsize=(6,4))\n",
    "sns.distplot(df['age'], fit=norm).set_title('Skewed')\n",
    "\n",
    "print(f'mu: {np.mean(df[\"age\"])}, sigma: {np.std(df[\"age\"])}')"
   ]
  },
  {
   "cell_type": "code",
   "execution_count": null,
   "id": "2682950e",
   "metadata": {},
   "outputs": [],
   "source": [
    "#show transformed data\n",
    "df['age'], lam = boxcox(df['age'])\n",
    "\n",
    "sns.distplot(df['age'], fit=norm).set_title('Transformed')\n",
    "\n",
    "print(f'mu: {np.mean(df[\"age\"])}, sigma: {np.std(df[\"age\"])}')"
   ]
  },
  {
   "cell_type": "markdown",
   "id": "e3689916",
   "metadata": {},
   "source": [
    "# Charges"
   ]
  },
  {
   "cell_type": "code",
   "execution_count": null,
   "id": "34729c16",
   "metadata": {},
   "outputs": [],
   "source": [
    "#Show original data\n",
    "sns.distplot(df['charges'], fit=norm).set_title('Skewed')\n",
    "\n",
    "print(f'mu: {np.mean(df[\"charges\"])}, sigma: {np.std(df[\"charges\"])}')"
   ]
  },
  {
   "cell_type": "code",
   "execution_count": null,
   "id": "57466e21",
   "metadata": {},
   "outputs": [],
   "source": [
    "#show transformed data\n",
    "df['charges'], lam = boxcox(df['charges'])\n",
    "\n",
    "sns.distplot(df['charges'], fit=norm).set_title('Transformed')\n",
    "\n",
    "print(f'mu: {np.mean(df[\"charges\"])}, sigma: {np.std(df[\"charges\"])}')"
   ]
  },
  {
   "cell_type": "markdown",
   "id": "c7c9fd56",
   "metadata": {},
   "source": [
    "# Correlation"
   ]
  },
  {
   "cell_type": "code",
   "execution_count": null,
   "id": "ebdf227d",
   "metadata": {},
   "outputs": [],
   "source": [
    "sns.heatmap(df.corr(), annot=True)"
   ]
  },
  {
   "cell_type": "markdown",
   "id": "8ee5a621",
   "metadata": {},
   "source": [
    "> Above we have the heatmap of correlation of the data\n",
    ">> Age and charges seems to have the highest correlation of 0.52 while the rest do not seem to have much correlation at all."
   ]
  },
  {
   "cell_type": "markdown",
   "id": "b7457745",
   "metadata": {},
   "source": [
    "# Dummies Variables"
   ]
  },
  {
   "cell_type": "markdown",
   "id": "f4c8436f",
   "metadata": {},
   "source": [
    "Here I turn categorical data into dummies variables. Since our linear model, that we will use later on, cannot accept non-numerical values."
   ]
  },
  {
   "cell_type": "code",
   "execution_count": null,
   "id": "13f76d03",
   "metadata": {},
   "outputs": [],
   "source": [
    "#Get the unique values for each categorical data\n",
    "cat_var = ['sex', 'smoker', 'region']\n",
    "\n",
    "for c in cat_var:\n",
    "    print(f'Unique Values for {c}: {df[c].unique()}')"
   ]
  },
  {
   "cell_type": "code",
   "execution_count": null,
   "id": "a2f0a5f0",
   "metadata": {},
   "outputs": [],
   "source": [
    "#Get dummies and drop the original columns\n",
    "for c in cat_var:\n",
    "    dummies = pd.get_dummies(df[c], prefix=f'{c}_')\n",
    "    df.drop(c, axis =1, inplace = True)\n",
    "    df = pd.concat([df, dummies], axis =1)"
   ]
  },
  {
   "cell_type": "code",
   "execution_count": null,
   "id": "1f681235",
   "metadata": {},
   "outputs": [],
   "source": [
    "#Heat map of the transformed data\n",
    "plt.figure(figsize=(12,8))\n",
    "sns.heatmap(df.corr(), annot=True)\n",
    "plt.savefig('heat.png')"
   ]
  },
  {
   "cell_type": "markdown",
   "id": "abc9435e",
   "metadata": {},
   "source": [
    "# Train Test Split"
   ]
  },
  {
   "cell_type": "code",
   "execution_count": null,
   "id": "add749b5",
   "metadata": {},
   "outputs": [],
   "source": [
    "#Import\n",
    "from sklearn.model_selection import train_test_split\n",
    "from sklearn.preprocessing import StandardScaler"
   ]
  },
  {
   "cell_type": "code",
   "execution_count": null,
   "id": "1bf90952",
   "metadata": {},
   "outputs": [],
   "source": [
    "#Define x and y\n",
    "X = df.drop('charges', axis =1)\n",
    "y = df['charges']"
   ]
  },
  {
   "cell_type": "code",
   "execution_count": null,
   "id": "996bfdae",
   "metadata": {},
   "outputs": [],
   "source": [
    "#Train test split\n",
    "X_train, X_test, y_train, y_test = train_test_split(X, y, test_size=0.33, random_state=42)"
   ]
  },
  {
   "cell_type": "code",
   "execution_count": null,
   "id": "32d0883c",
   "metadata": {},
   "outputs": [],
   "source": [
    "#Scale the data using StandardScaler\n",
    "scaler = StandardScaler()\n",
    "\n",
    "X_train = scaler.fit_transform(X_train)\n",
    "X_test = scaler.transform(X_test)"
   ]
  },
  {
   "cell_type": "markdown",
   "id": "763294d0",
   "metadata": {},
   "source": [
    "# Model "
   ]
  },
  {
   "cell_type": "code",
   "execution_count": null,
   "id": "f3fd9e53",
   "metadata": {},
   "outputs": [],
   "source": [
    "#Import \n",
    "from sklearn.linear_model import LinearRegression\n",
    "from sklearn.model_selection import GridSearchCV"
   ]
  },
  {
   "cell_type": "code",
   "execution_count": null,
   "id": "6834fe3c",
   "metadata": {},
   "outputs": [],
   "source": [
    "#Show the parameters from linear regression\n",
    "LinearRegression().get_params()"
   ]
  },
  {
   "cell_type": "code",
   "execution_count": null,
   "id": "aff1f2ca",
   "metadata": {},
   "outputs": [],
   "source": [
    "#Use GridSearchCV in order to optimized the parameters of linear regression\n",
    "parameters = {'copy_X': [True,False],\n",
    " 'fit_intercept': [True,False],\n",
    " 'positive': [True,False]}\n",
    "\n",
    "\n",
    "cv = GridSearchCV(LinearRegression(),parameters,n_jobs=-1,cv=15,verbose=2).fit(X_train,y_train)\n",
    "\n",
    "print(f'The best score: {cv.best_score_*100}')\n",
    "print(f'The best estimators: {cv.best_estimator_}')\n",
    "print(f'The best parameters{cv.best_params_}')"
   ]
  },
  {
   "cell_type": "code",
   "execution_count": null,
   "id": "2af05a23",
   "metadata": {},
   "outputs": [],
   "source": [
    "# Train and predict the data using linear regression with the parameters that we found\n",
    "linear = LinearRegression(fit_intercept=True,copy_X=True,positive=True)\n",
    "\n",
    "linear.fit(X_train,y_train)\n",
    "pred = linear.predict(X_test)\n",
    "\n",
    "print(f'Train score: {linear.score(X_train, y_train)}')\n",
    "print(f'Test score: {linear.score(X_test, y_test)}')"
   ]
  },
  {
   "cell_type": "code",
   "execution_count": null,
   "id": "b588c099",
   "metadata": {},
   "outputs": [],
   "source": [
    "#Joint plot of the prediction and y_test\n",
    "sns.jointplot(y_test,pred, kind='reg', line_kws={'color':'red'})"
   ]
  },
  {
   "cell_type": "markdown",
   "id": "f96c6742",
   "metadata": {},
   "source": [
    "# Evaluations"
   ]
  },
  {
   "cell_type": "markdown",
   "id": "965318db",
   "metadata": {},
   "source": [
    "I have decided to used Mean Absolute Error, Mean Squared Error, Root Mean Square Error and R^2 as the metrics for evaluating out model. "
   ]
  },
  {
   "cell_type": "code",
   "execution_count": null,
   "id": "76535b97",
   "metadata": {},
   "outputs": [],
   "source": [
    "#import\n",
    "import sklearn.metrics as met"
   ]
  },
  {
   "cell_type": "markdown",
   "id": "a72ad34d",
   "metadata": {},
   "source": [
    "# Mean Absolute Error"
   ]
  },
  {
   "cell_type": "code",
   "execution_count": null,
   "id": "a66574f2",
   "metadata": {},
   "outputs": [],
   "source": [
    "print(f'MAE: {met.mean_absolute_error(y_test,pred)}')"
   ]
  },
  {
   "cell_type": "markdown",
   "id": "fe7ca8bf",
   "metadata": {},
   "source": [
    ">This gives you the mean of the absolute error of the data. MAE is easy to interpret because it has the unit as value as the data. In our case, we can say that on average our model's prediction distance from the real charges by 0.41 dollars. Since this is the measurement of errors, the lower the value the better"
   ]
  },
  {
   "cell_type": "markdown",
   "id": "b9e24edb",
   "metadata": {},
   "source": [
    "# Mean Square Error"
   ]
  },
  {
   "cell_type": "code",
   "execution_count": null,
   "id": "96d61d2a",
   "metadata": {},
   "outputs": [],
   "source": [
    "print(f'MSE: {met.mean_squared_error(y_test,pred)}')"
   ]
  },
  {
   "cell_type": "markdown",
   "id": "325d2b79",
   "metadata": {},
   "source": [
    ">This gives us the average of the squared value of the errors and because it we sqaure the errors before taking the mean, the value do punish outliers more than MAE. This, however, does not have the same unit as the real values and cannot be interpreted in the same manner. However, this is still a measurement of error which means the lower the value the better the model is. "
   ]
  },
  {
   "cell_type": "markdown",
   "id": "eca63f0d",
   "metadata": {},
   "source": [
    "# Root Mean Square Error"
   ]
  },
  {
   "cell_type": "code",
   "execution_count": null,
   "id": "bca9eddf",
   "metadata": {},
   "outputs": [],
   "source": [
    "print(f'RMSE: {np.sqrt(met.mean_squared_error(y_test,pred))}')"
   ]
  },
  {
   "cell_type": "markdown",
   "id": "1329e505",
   "metadata": {},
   "source": [
    ">This is basically the square root of the mean square error. This makes the value the same unit as the real value again making it easier to interpret. In our cause, accorinding to the RMSE, our model distances from the real value by 0.66 dollars."
   ]
  },
  {
   "cell_type": "markdown",
   "id": "1d779d31",
   "metadata": {},
   "source": [
    "# R^2"
   ]
  },
  {
   "cell_type": "code",
   "execution_count": null,
   "id": "7add961e",
   "metadata": {},
   "outputs": [],
   "source": [
    "print(f'R^2: {met.r2_score(y_test,pred)}')"
   ]
  },
  {
   "cell_type": "markdown",
   "id": "faf1f2d7",
   "metadata": {},
   "source": [
    ">This value is the measurement of the correlation between the real values and the values predicted by our model. Since it measures the association and not the errors, the lower the value does not mean better model. Instead R^2 goes up to 1 and the closer to 1 you are the better the model is. In our case, we have the score of 0.776"
   ]
  },
  {
   "cell_type": "code",
   "execution_count": null,
   "id": "dc4e0262",
   "metadata": {},
   "outputs": [],
   "source": []
  }
 ],
 "metadata": {
  "kernelspec": {
   "display_name": "Python 3 (ipykernel)",
   "language": "python",
   "name": "python3"
  },
  "language_info": {
   "codemirror_mode": {
    "name": "ipython",
    "version": 3
   },
   "file_extension": ".py",
   "mimetype": "text/x-python",
   "name": "python",
   "nbconvert_exporter": "python",
   "pygments_lexer": "ipython3",
   "version": "3.8.12"
  }
 },
 "nbformat": 4,
 "nbformat_minor": 5
}
